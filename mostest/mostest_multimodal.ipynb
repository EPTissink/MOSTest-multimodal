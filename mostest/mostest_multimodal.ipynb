{
 "cells": [
  {
   "cell_type": "code",
   "execution_count": 1,
   "id": "a34c5272",
   "metadata": {},
   "outputs": [],
   "source": [
    "import pandas as pd\n",
    "import numpy as np\n",
    "import os\n",
    "import matplotlib.pyplot as plt"
   ]
  },
  {
   "cell_type": "code",
   "execution_count": 2,
   "id": "3ffd29a1",
   "metadata": {},
   "outputs": [],
   "source": [
    "gwas_dir = \"/cluster/projects/p33/users/elizabept/multimodal/discovery/plink/results\"\n",
    "ref_bim = \"/cluster/projects/p33/users/elizabept/multimodal/discovery/genos/results/UKB34886_T1_QCed_230222.bim\""
   ]
  },
  {
   "cell_type": "code",
   "execution_count": 3,
   "id": "667c8b3d",
   "metadata": {},
   "outputs": [
    {
     "name": "stdout",
     "output_type": "stream",
     "text": [
      "(9061586, 2)\n"
     ]
    },
    {
     "data": {
      "text/html": [
       "<div>\n",
       "<style scoped>\n",
       "    .dataframe tbody tr th:only-of-type {\n",
       "        vertical-align: middle;\n",
       "    }\n",
       "\n",
       "    .dataframe tbody tr th {\n",
       "        vertical-align: top;\n",
       "    }\n",
       "\n",
       "    .dataframe thead th {\n",
       "        text-align: right;\n",
       "    }\n",
       "</style>\n",
       "<table border=\"1\" class=\"dataframe\">\n",
       "  <thead>\n",
       "    <tr style=\"text-align: right;\">\n",
       "      <th></th>\n",
       "      <th>SNP</th>\n",
       "      <th>A1</th>\n",
       "    </tr>\n",
       "  </thead>\n",
       "  <tbody>\n",
       "    <tr>\n",
       "      <th>0</th>\n",
       "      <td>rs533090414</td>\n",
       "      <td>C</td>\n",
       "    </tr>\n",
       "    <tr>\n",
       "      <th>1</th>\n",
       "      <td>rs28619159</td>\n",
       "      <td>C</td>\n",
       "    </tr>\n",
       "    <tr>\n",
       "      <th>2</th>\n",
       "      <td>rs539032812</td>\n",
       "      <td>C</td>\n",
       "    </tr>\n",
       "    <tr>\n",
       "      <th>3</th>\n",
       "      <td>rs12238997</td>\n",
       "      <td>G</td>\n",
       "    </tr>\n",
       "    <tr>\n",
       "      <th>4</th>\n",
       "      <td>rs200531508</td>\n",
       "      <td>A</td>\n",
       "    </tr>\n",
       "  </tbody>\n",
       "</table>\n",
       "</div>"
      ],
      "text/plain": [
       "           SNP A1\n",
       "0  rs533090414  C\n",
       "1   rs28619159  C\n",
       "2  rs539032812  C\n",
       "3   rs12238997  G\n",
       "4  rs200531508  A"
      ]
     },
     "execution_count": 3,
     "metadata": {},
     "output_type": "execute_result"
    }
   ],
   "source": [
    "bim = pd.read_csv(ref_bim, sep='\\t', header=None, names=[\"SNP\",\"A1\"], usecols=[1,4])\n",
    "print(bim.shape)\n",
    "bim.head()"
   ]
  },
  {
   "cell_type": "code",
   "execution_count": 26,
   "id": "1c292ca3",
   "metadata": {},
   "outputs": [],
   "source": [
    "def save_zmat(gwas_des, zmat_prefix, bim):\n",
    "    zmat_dat_fname = f\"{zmat_prefix}.dat\" # z-scores in binary format\n",
    "    zmat_col_fname = f\"{zmat_prefix}.cols\" # variants\n",
    "    zmat_row_fname = f\"{zmat_prefix}.rows\" # phenotypes\n",
    "    \n",
    "    # save column and row ids\n",
    "    pd.Series([de.name for de in gwas_des]).to_csv(zmat_row_fname, header=None, index=False)\n",
    "    bim.SNP.to_csv(zmat_col_fname, header=None, index=False)\n",
    "    \n",
    "    # save binary data\n",
    "    zmat_shape = (len(gwas_des), bim.shape[0])\n",
    "    zmat = np.memmap(zmat_dat_fname, dtype='float32', mode='w+', offset=0, shape=zmat_shape, order='C')\n",
    "    for i,de in enumerate(gwas_des):\n",
    "        print(i, end=' ')\n",
    "        df = pd.read_table(de.path, sep='\\t', usecols=[\"ID\",\"A1\",\"T_STAT\"])\n",
    "        assert (df.ID == bim.SNP).all()\n",
    "        i_swap_sign = df.A1!=bim.A1\n",
    "        df.loc[i_swap_sign,\"T_STAT\"] *= -1\n",
    "        zmat[i] = df.T_STAT.values\n",
    "        zmat.flush()\n",
    "        \n",
    "def get_gwas_des(dir2use, h2_summary_df=None, h2_z_threshold=1.96, contains_str=None):\n",
    "    if not h2_summary_df is None:\n",
    "        pheno2use = h2_summary_df.loc[h2_summary_df.h2_z>h2_z_threshold, \"pheno\"]\n",
    "    print(f\"{len(pheno2use)} phenotypes with h2_z > {h2_z_threshold}\")\n",
    "    pheno2use.sort_values(axis=0, inplace=True)\n",
    "    pheno2use = list(pheno2use)\n",
    "    gwas_des = [de for de in os.scandir(dir2use)\n",
    "                if de.name.endswith(\".linear\")\n",
    "                    and (contains_str is None or contains_str in de.name)\n",
    "                    and de.name.split('.')[1] in pheno2use]\n",
    "    gwas_des.sort(key=lambda de: de.name)\n",
    "    print(f\"{len(gwas_des)} GWAS files in {dir2use}\")\n",
    "    return gwas_des\n",
    "\n",
    "def get_gwas_des_from_pheno_list(in_dir, pheno_list):\n",
    "    gwas_des = [None]*len(pheno_list)\n",
    "    for de in os.scandir(in_dir):\n",
    "        gwas_pheno = de.name.split('.')[1]\n",
    "        if gwas_pheno in pheno_list:\n",
    "            ind = pheno_list.index(de.name.split('.')[1])\n",
    "            gwas_des[ind] = de\n",
    "    assert all(gwas_des)\n",
    "    return gwas_des"
   ]
  },
  {
   "cell_type": "code",
   "execution_count": 5,
   "id": "9e19bbbe",
   "metadata": {},
   "outputs": [
    {
     "name": "stdout",
     "output_type": "stream",
     "text": [
      "(3555, 10)\n"
     ]
    },
    {
     "data": {
      "text/html": [
       "<div>\n",
       "<style scoped>\n",
       "    .dataframe tbody tr th:only-of-type {\n",
       "        vertical-align: middle;\n",
       "    }\n",
       "\n",
       "    .dataframe tbody tr th {\n",
       "        vertical-align: top;\n",
       "    }\n",
       "\n",
       "    .dataframe thead th {\n",
       "        text-align: right;\n",
       "    }\n",
       "</style>\n",
       "<table border=\"1\" class=\"dataframe\">\n",
       "  <thead>\n",
       "    <tr style=\"text-align: right;\">\n",
       "      <th></th>\n",
       "      <th>pheno</th>\n",
       "      <th>h2</th>\n",
       "      <th>h2_se</th>\n",
       "      <th>Labmda_GC</th>\n",
       "      <th>Mean_Chi2</th>\n",
       "      <th>Intercept</th>\n",
       "      <th>Intercept_se</th>\n",
       "      <th>Ratio</th>\n",
       "      <th>Ratio_se</th>\n",
       "      <th>h2_z</th>\n",
       "    </tr>\n",
       "  </thead>\n",
       "  <tbody>\n",
       "    <tr>\n",
       "      <th>0</th>\n",
       "      <td>3rd_Ventricle</td>\n",
       "      <td>0.2826</td>\n",
       "      <td>0.0245</td>\n",
       "      <td>1.1523</td>\n",
       "      <td>1.2123</td>\n",
       "      <td>1.0223</td>\n",
       "      <td>0.0069</td>\n",
       "      <td>0.1052</td>\n",
       "      <td>0.0323</td>\n",
       "      <td>11.53470</td>\n",
       "    </tr>\n",
       "    <tr>\n",
       "      <th>1</th>\n",
       "      <td>4th_Ventricle</td>\n",
       "      <td>0.3143</td>\n",
       "      <td>0.0258</td>\n",
       "      <td>1.1747</td>\n",
       "      <td>1.2431</td>\n",
       "      <td>1.0274</td>\n",
       "      <td>0.0089</td>\n",
       "      <td>0.1127</td>\n",
       "      <td>0.0365</td>\n",
       "      <td>12.18220</td>\n",
       "    </tr>\n",
       "    <tr>\n",
       "      <th>2</th>\n",
       "      <td>5th_Ventricle</td>\n",
       "      <td>0.0653</td>\n",
       "      <td>0.0139</td>\n",
       "      <td>1.0557</td>\n",
       "      <td>1.0479</td>\n",
       "      <td>1.0043</td>\n",
       "      <td>0.0060</td>\n",
       "      <td>0.09</td>\n",
       "      <td>0.1257</td>\n",
       "      <td>4.69784</td>\n",
       "    </tr>\n",
       "    <tr>\n",
       "      <th>3</th>\n",
       "      <td>Brain_Stem</td>\n",
       "      <td>0.3080</td>\n",
       "      <td>0.0236</td>\n",
       "      <td>1.1683</td>\n",
       "      <td>1.2239</td>\n",
       "      <td>1.0153</td>\n",
       "      <td>0.0072</td>\n",
       "      <td>0.0685</td>\n",
       "      <td>0.0323</td>\n",
       "      <td>13.05080</td>\n",
       "    </tr>\n",
       "    <tr>\n",
       "      <th>4</th>\n",
       "      <td>CC_Anterior</td>\n",
       "      <td>0.3140</td>\n",
       "      <td>0.0252</td>\n",
       "      <td>1.1747</td>\n",
       "      <td>1.2319</td>\n",
       "      <td>1.0219</td>\n",
       "      <td>0.0082</td>\n",
       "      <td>0.0946</td>\n",
       "      <td>0.0354</td>\n",
       "      <td>12.46030</td>\n",
       "    </tr>\n",
       "  </tbody>\n",
       "</table>\n",
       "</div>"
      ],
      "text/plain": [
       "           pheno      h2   h2_se  Labmda_GC  Mean_Chi2  Intercept  \\\n",
       "0  3rd_Ventricle  0.2826  0.0245     1.1523     1.2123     1.0223   \n",
       "1  4th_Ventricle  0.3143  0.0258     1.1747     1.2431     1.0274   \n",
       "2  5th_Ventricle  0.0653  0.0139     1.0557     1.0479     1.0043   \n",
       "3     Brain_Stem  0.3080  0.0236     1.1683     1.2239     1.0153   \n",
       "4    CC_Anterior  0.3140  0.0252     1.1747     1.2319     1.0219   \n",
       "\n",
       "   Intercept_se   Ratio Ratio_se      h2_z  \n",
       "0        0.0069  0.1052   0.0323  11.53470  \n",
       "1        0.0089  0.1127   0.0365  12.18220  \n",
       "2        0.0060    0.09   0.1257   4.69784  \n",
       "3        0.0072  0.0685   0.0323  13.05080  \n",
       "4        0.0082  0.0946   0.0354  12.46030  "
      ]
     },
     "execution_count": 5,
     "metadata": {},
     "output_type": "execute_result"
    }
   ],
   "source": [
    "h2_dir = \"/cluster/projects/p33/users/elizabept/multimodal/discovery/ldsc/results/h2\"\n",
    "summary_df = pd.read_table(f\"{h2_dir}/summary_schaefer.txt\")\n",
    "print(summary_df.shape)\n",
    "summary_df.head()"
   ]
  },
  {
   "cell_type": "code",
   "execution_count": 7,
   "id": "3c49856c",
   "metadata": {},
   "outputs": [
    {
     "name": "stdout",
     "output_type": "stream",
     "text": [
      "2279 phenotypes with h2_z > 1.96\n",
      "2279 GWAS files in /cluster/projects/p33/users/elizabept/multimodal/discovery/plink/results/orig\n",
      "583\n",
      "0 1 2 3 4 5 6 7 8 9 10 11 12 13 14 15 16 17 18 19 20 21 22 23 24 25 26 27 28 29 30 31 32 33 34 35 36 37 38 39 40 41 42 43 44 45 46 47 48 49 50 51 52 53 54 55 56 57 58 59 60 61 62 63 64 65 66 67 68 69 70 71 72 73 74 75 76 77 78 79 80 81 82 83 84 85 86 87 88 89 90 91 92 93 94 95 96 97 98 99 100 101 102 103 104 105 106 107 108 109 110 111 112 113 114 115 116 117 118 119 120 121 122 123 124 125 126 127 128 129 130 131 132 133 134 135 136 137 138 139 140 141 142 143 144 145 146 147 148 149 150 151 152 153 154 155 156 157 158 159 160 161 162 163 164 165 166 167 168 169 170 171 172 173 174 175 176 177 178 179 180 181 182 183 184 185 186 187 188 189 190 191 192 193 194 195 196 197 198 199 200 201 202 203 204 205 206 207 208 209 210 211 212 213 214 215 216 217 218 219 220 221 222 223 224 225 226 227 228 229 230 231 232 233 234 235 236 237 238 239 240 241 242 243 244 245 246 247 248 249 250 251 252 253 254 255 256 257 258 259 260 261 262 263 264 265 266 267 268 269 270 271 272 273 274 275 276 277 278 279 280 281 282 283 284 285 286 287 288 289 290 291 292 293 294 295 296 297 298 299 300 301 302 303 304 305 306 307 308 309 310 311 312 313 314 315 316 317 318 319 320 321 322 323 324 325 326 327 328 329 330 331 332 333 334 335 336 337 338 339 340 341 342 343 344 345 346 347 348 349 350 351 352 353 354 355 356 357 358 359 360 361 362 363 364 365 366 367 368 369 370 371 372 373 374 375 376 377 378 379 380 381 382 383 384 385 386 387 388 389 390 391 392 393 394 395 396 397 398 399 400 401 402 403 404 405 406 407 408 409 410 411 412 413 414 415 416 417 418 419 420 421 422 423 424 425 426 427 428 429 430 431 432 433 434 435 436 437 438 439 440 441 442 443 444 445 446 447 448 449 450 451 452 453 454 455 456 457 458 459 460 461 462 463 464 465 466 467 468 469 470 471 472 473 474 475 476 477 478 479 480 481 482 483 484 485 486 487 488 489 490 491 492 493 494 495 496 497 498 499 500 501 502 503 504 505 506 507 508 509 510 511 512 513 514 515 516 517 518 519 520 521 522 523 524 525 526 527 528 529 530 531 532 533 534 535 536 537 538 539 540 541 542 543 544 545 546 547 548 549 550 551 552 553 554 555 556 557 558 559 560 561 562 563 564 565 566 567 568 569 570 571 572 573 574 575 576 577 578 579 580 581 582 "
     ]
    }
   ],
   "source": [
    "# Save orig z scores\n",
    "# Phenotypes in rows, variants in columns.\n",
    "# Sort phenotypes in lexicographical order, the order of variants is as in reference bim file.\n",
    "orig_dir = os.path.join(gwas_dir, \"orig\")\n",
    "zmat_prefix = \"/cluster/projects/p33/users/alexeas/elleke/data/zmat_h2z196_elbow_orig_040522\"\n",
    "gwas_des = get_gwas_des(orig_dir, summary_df, h2_z_threshold=1.96, contains_str=None)\n",
    "gwas_des_elbow = []\n",
    "gwas_des = [de for de in gwas_des if not ((\"node\" in de.name) or (\"edge\" in de.name))] # drop old functional\n",
    "for de in gwas_des:\n",
    "    p = de.name.split(\".\")[1]\n",
    "    if ( not (p.startswith(\"N0_\") or p.startswith(\"ND_\") or p.startswith(\"NF_\"))\n",
    "                  or ( p.startswith(\"N0_\") and int(p.split(\"PCs\")[-1])<66 )\n",
    "                  or ( p.startswith(\"ND_\") and int(p.split(\"PCs\")[-1])<125 )\n",
    "                  or ( p.startswith(\"NF_\") and int(p.split(\"PCs\")[-1])<88 ) ):\n",
    "        gwas_des_elbow.append(de)\n",
    "\n",
    "print(len(gwas_des_elbow))\n",
    "\n",
    "save_zmat(gwas_des_elbow, zmat_prefix, bim) "
   ]
  },
  {
   "cell_type": "code",
   "execution_count": 48,
   "id": "c26b5335",
   "metadata": {},
   "outputs": [
    {
     "name": "stdout",
     "output_type": "stream",
     "text": [
      "402 GWAS files in /cluster/projects/p33/users/elizabept/multimodal/discovery/plink/results/perm\n",
      "0 1 2 3 4 5 6 7 8 9 10 11 12 13 14 15 16 17 18 19 20 21 22 23 24 25 26 27 28 29 30 31 32 33 34 35 36 37 38 39 40 41 42 43 44 45 46 47 48 49 50 51 52 53 54 55 56 57 58 59 60 61 62 63 64 65 66 67 68 69 70 71 72 73 74 75 76 77 78 79 80 81 82 83 84 85 86 87 88 89 90 91 92 93 94 95 96 97 98 99 100 101 102 103 104 105 106 107 108 109 110 111 112 113 114 115 116 117 118 119 120 121 122 123 124 125 126 127 128 129 130 131 132 133 134 135 136 137 138 139 140 141 142 143 144 145 146 147 148 149 150 151 152 153 154 155 156 157 158 159 160 161 162 163 164 165 166 167 168 169 170 171 172 173 174 175 176 177 178 179 180 181 182 183 184 185 186 187 188 189 190 191 192 193 194 195 196 197 198 199 200 201 202 203 204 205 206 207 208 209 210 211 212 213 214 215 216 217 218 219 220 221 222 223 224 225 226 227 228 229 230 231 232 233 234 235 236 237 238 239 240 241 242 243 244 245 246 247 248 249 250 251 252 253 254 255 256 257 258 259 260 261 262 263 264 265 266 267 268 269 270 271 272 273 274 275 276 277 278 279 280 281 282 283 284 285 286 287 288 289 290 291 292 293 294 295 296 297 298 299 300 301 302 303 304 305 306 307 308 309 310 311 312 313 314 315 316 317 318 319 320 321 322 323 324 325 326 327 328 329 330 331 332 333 334 335 336 337 338 339 340 341 342 343 344 345 346 347 348 349 350 351 352 353 354 355 356 357 358 359 360 361 362 363 364 365 366 367 368 369 370 371 372 373 374 375 376 377 378 379 380 381 382 383 384 385 386 387 388 389 390 391 392 393 394 395 396 397 398 399 400 401 "
     ]
    }
   ],
   "source": [
    "# Save perm z scores\n",
    "perm_dir = os.path.join(gwas_dir, \"perm\")\n",
    "zmat_prefix = \"/cluster/projects/p33/users/alexeas/elleke/data/zmat_perm_h2z196\"\n",
    "gwas_des = get_gwas_des(perm_dir, summary_df, h2_z_threshold=1.96, contains_str=\"perm.\")\n",
    "save_zmat(gwas_des, zmat_prefix, bim)"
   ]
  },
  {
   "cell_type": "code",
   "execution_count": 40,
   "id": "88c6a2f8",
   "metadata": {},
   "outputs": [],
   "source": [
    "def extract_zmat_pheno(zmat_prefix_in, pheno_list, zmat_prefix_out):\n",
    "    zmat_dat_in_fname = f\"{zmat_prefix_in}.dat\" # z-scores in binary format\n",
    "    zmat_col_in_fname = f\"{zmat_prefix_in}.cols\" # variants\n",
    "    zmat_row_in_fname = f\"{zmat_prefix_in}.rows\" # phenotypes\n",
    "    \n",
    "    pheno = pd.read_csv(zmat_row_in_fname, header=None, names=[\"PHENO\"]).squeeze(\"columns\")\n",
    "    pheno_ind_2take = [i for i,p in enumerate(pheno) if p in pheno_list]\n",
    "    print(f\"{len(pheno_ind_2take)} out of {len(pheno_list)} phenotypes found\")\n",
    "    \n",
    "    zmat_dat_out_fname = f\"{zmat_prefix_out}.dat\" # z-scores in binary format\n",
    "    zmat_col_out_fname = f\"{zmat_prefix_out}.cols\" # variants\n",
    "    zmat_row_out_fname = f\"{zmat_prefix_out}.rows\" # phenotypes\n",
    "\n",
    "    pd.Series(pheno_list).to_csv(zmat_row_out_fname, header=None, index=False)\n",
    "    snp = pd.read_csv(zmat_col_in_fname, header=None)\n",
    "    snp.to_csv(zmat_col_out_fname, header=None, index=False)\n",
    "\n",
    "    zmat_in_shape = (pheno.shape[0], snp.shape[0])\n",
    "    zmat_in = np.memmap(zmat_dat_in_fname, dtype='float32', mode='r+', offset=0, shape=zmat_in_shape, order='C')\n",
    "\n",
    "    zmat_out_shape = (len(pheno_list), snp.shape[0])\n",
    "    zmat_out = np.memmap(zmat_dat_out_fname, dtype='float32', mode='w+', offset=0, shape=zmat_out_shape, order='C')\n",
    "    zmat_out[:] = zmat_in[pheno_ind_2take]\n",
    "    zmat_out.flush()\n"
   ]
  },
  {
   "cell_type": "code",
   "execution_count": 20,
   "id": "35711310",
   "metadata": {},
   "outputs": [
    {
     "name": "stdout",
     "output_type": "stream",
     "text": [
      "139\n",
      "139 out of 139 phenotypes found\n"
     ]
    }
   ],
   "source": [
    "# extract modality-specific z-scores\n",
    "\n",
    "zmat_prefix_in = \"/cluster/projects/p33/users/alexeas/elleke/data/zmat_h2z196_elbow_perm_040522\"\n",
    "pheno_names2extract = [f\"conn{i}\" for i in range(1,137)] + \"VisPeri VisCent TempPar SomMotB SomMotA SalVentAttnB SalVentAttnA LimbicB LimbicA DorsAttnB DorsAttnA DefaultC DefaultB DefaultA ContC ContB ContA\".split()\n",
    "pheno_files = pd.read_csv(f\"{zmat_prefix_in}.rows\", header=None).squeeze()\n",
    "pheno_files2extract = [p for p in pheno_files if p.split('.')[1] in pheno_names2extract]\n",
    "zmat_prefix_out = \"/cluster/projects/p33/users/alexeas/elleke/data/zmat_func_h2z196_elbow_perm_040522\"\n",
    "print(len(pheno_files2extract))\n",
    "extract_zmat_pheno(zmat_prefix_in, pheno_files2extract, zmat_prefix_out)"
   ]
  },
  {
   "cell_type": "code",
   "execution_count": 33,
   "id": "9bdaf24b",
   "metadata": {},
   "outputs": [
    {
     "name": "stdout",
     "output_type": "stream",
     "text": [
      "231\n",
      "231 out of 231 phenotypes found\n"
     ]
    }
   ],
   "source": [
    "zmat_prefix_in = \"/cluster/projects/p33/users/alexeas/elleke/data/zmat_perm\"\n",
    "gwas_dir = \"/cluster/projects/p33/users/elizabept/multimodal/discovery/plink/results/perm\"\n",
    "pheno_list = [de.name for de in os.scandir(gwas_dir) if (\"edge\" in de.name or \"node\" in de.name)]\n",
    "zmat_prefix_out = \"/cluster/projects/p33/users/alexeas/elleke/data/zmat_rsfmri_perm\"\n",
    "print(len(pheno_list))\n",
    "extract_zmat_pheno(zmat_prefix_in, pheno_list, zmat_prefix_out)"
   ]
  },
  {
   "cell_type": "code",
   "execution_count": 37,
   "id": "4883f650",
   "metadata": {},
   "outputs": [
    {
     "name": "stdout",
     "output_type": "stream",
     "text": [
      "171\n",
      "171 out of 171 phenotypes found\n"
     ]
    }
   ],
   "source": [
    "zmat_prefix_in = \"/cluster/projects/p33/users/alexeas/elleke/data/zmat_orig\"\n",
    "gwas_dir = \"/cluster/projects/p33/users/elizabept/multimodal/discovery/plink/results/orig\"\n",
    "pheno_list = [de.name for de in os.scandir(gwas_dir) if not (\"edge\" in de.name or \"node\" in de.name)]\n",
    "zmat_prefix_out = \"/cluster/projects/p33/users/alexeas/elleke/data/zmat_T1_orig\"\n",
    "print(len(pheno_list))\n",
    "extract_zmat_pheno(zmat_prefix_in, pheno_list, zmat_prefix_out)"
   ]
  },
  {
   "cell_type": "code",
   "execution_count": 40,
   "id": "f3106ae4",
   "metadata": {},
   "outputs": [
    {
     "name": "stdout",
     "output_type": "stream",
     "text": [
      "171\n",
      "171 out of 171 phenotypes found\n"
     ]
    }
   ],
   "source": [
    "zmat_prefix_in = \"/cluster/projects/p33/users/alexeas/elleke/data/zmat_perm\"\n",
    "gwas_dir = \"/cluster/projects/p33/users/elizabept/multimodal/discovery/plink/results/perm\"\n",
    "pheno_list = [de.name for de in os.scandir(gwas_dir) if (not (\"edge\" in de.name or \"node\" in de.name)) and (de.name.endswith(\"linear\"))]\n",
    "zmat_prefix_out = \"/cluster/projects/p33/users/alexeas/elleke/data/zmat_T1_perm\"\n",
    "print(len(pheno_list))\n",
    "extract_zmat_pheno(zmat_prefix_in, pheno_list, zmat_prefix_out)"
   ]
  },
  {
   "cell_type": "code",
   "execution_count": 16,
   "id": "89d4816c",
   "metadata": {},
   "outputs": [
    {
     "name": "stdout",
     "output_type": "stream",
     "text": [
      "/cluster/projects/p33/users/elizabept/multimodal/discovery/ldsc/results/h2/insig_pheno.txt\n",
      "76 insignificant phenotypes\n",
      "326 significant phenotypes in orig\n",
      "326 out of 326 phenotypes found\n",
      "326 significant phenotypes in perm\n",
      "326 out of 326 phenotypes found\n"
     ]
    }
   ],
   "source": [
    "# heritable pheno\n",
    "insig_pheno_fname = \"/cluster/projects/p33/users/elizabept/multimodal/discovery/ldsc/results/h2/insig_pheno.txt\"\n",
    "print(insig_pheno_fname)\n",
    "insig_pheno = set(pd.read_csv(insig_pheno_fname, header=None, names=[\"PHENO\"]).squeeze(\"columns\"))\n",
    "print(f\"{len(insig_pheno)} insignificant phenotypes\")\n",
    "for orig_perm in [\"orig\", \"perm\"]:\n",
    "    gwas_dir = f\"/cluster/projects/p33/users/elizabept/multimodal/discovery/plink/results/{orig_perm}\"\n",
    "    pheno_list = [de.name for de in os.scandir(gwas_dir) if (de.name.endswith('.linear')) and (not de.name.split('.')[1] in insig_pheno)]\n",
    "    print(f\"{len(pheno_list)} significant phenotypes in {orig_perm}\")\n",
    "    zmat_prefix_in = f\"/cluster/projects/p33/users/alexeas/elleke/data/zmat_{orig_perm}\"\n",
    "    zmat_prefix_out = f\"/cluster/projects/p33/users/alexeas/elleke/data/zmat_h205_{orig_perm}\"\n",
    "    extract_zmat_pheno(zmat_prefix_in, pheno_list, zmat_prefix_out)\n"
   ]
  },
  {
   "cell_type": "code",
   "execution_count": 68,
   "id": "7aa2f03b",
   "metadata": {},
   "outputs": [
    {
     "name": "stdout",
     "output_type": "stream",
     "text": [
      "1814 significant phenotypes\n",
      "1814 significant phenotypes in orig\n",
      "1814 out of 1814 phenotypes found\n",
      "1814 significant phenotypes in perm\n",
      "1814 out of 1814 phenotypes found\n"
     ]
    }
   ],
   "source": [
    "# heritable diffusion pheno\n",
    "h2_z_threshold = 1.96\n",
    "h2_dir = \"/cluster/projects/p33/users/elizabept/multimodal/discovery/ldsc/results/h2\"\n",
    "summary_df = pd.read_table(f\"{h2_dir}/summary.txt\")\n",
    "sig_pheno =  [p for p in list(summary_df.loc[summary_df.h2_z>h2_z_threshold, \"pheno\"]) if p[:3] in (\"N0_\",\"ND_\",\"NF_\")]\n",
    "print(f\"{len(sig_pheno)} significant phenotypes\")\n",
    "if True:\n",
    "    for orig_perm in [\"orig\", \"perm\"]:\n",
    "        gwas_dir = f\"/cluster/projects/p33/users/elizabept/multimodal/discovery/plink/results/{orig_perm}\"\n",
    "        pheno_list = [de.name for de in os.scandir(gwas_dir) if (de.name.endswith('.linear')) and (de.name.split('.')[1] in sig_pheno) and (de.name.split('.')[0].split(\"_\")[-1] in (\"orig\",\"perm\"))]\n",
    "        print(f\"{len(pheno_list)} significant phenotypes in {orig_perm}\")\n",
    "        zmat_prefix_in = f\"/cluster/projects/p33/users/alexeas/elleke/data/zmat_{orig_perm}_h2z196\"\n",
    "        zmat_prefix_out = f\"/cluster/projects/p33/users/alexeas/elleke/data/zmat_diffusion_h2z196_{orig_perm}\"\n",
    "        extract_zmat_pheno(zmat_prefix_in, pheno_list, zmat_prefix_out)\n"
   ]
  },
  {
   "cell_type": "code",
   "execution_count": 5,
   "id": "1643de0e",
   "metadata": {},
   "outputs": [
    {
     "name": "stdout",
     "output_type": "stream",
     "text": [
      "/cluster/projects/p33/users/elizabept/multimodal/discovery/ldsc/results/h2/insig_pheno.txt\n",
      "76 insignificant phenotypes\n",
      "155 significant phenotypes in orig\n",
      "155 out of 155 phenotypes found\n",
      "155 significant phenotypes in perm\n",
      "155 out of 155 phenotypes found\n"
     ]
    }
   ],
   "source": [
    "# heritable functional pheno\n",
    "insig_pheno_fname = \"/cluster/projects/p33/users/elizabept/multimodal/discovery/ldsc/results/h2/insig_pheno.txt\"\n",
    "print(insig_pheno_fname)\n",
    "insig_pheno = set(pd.read_csv(insig_pheno_fname, header=None, names=[\"PHENO\"]).squeeze(\"columns\"))\n",
    "print(f\"{len(insig_pheno)} insignificant phenotypes\")\n",
    "for orig_perm in [\"orig\", \"perm\"]:\n",
    "    gwas_dir = f\"/cluster/projects/p33/users/elizabept/multimodal/discovery/plink/results/{orig_perm}\"\n",
    "    pheno_list = [de.name for de in os.scandir(gwas_dir) if (de.name.endswith('.linear')) and (not de.name.split('.')[1] in insig_pheno) and (\"edge\" in de.name or \"node\" in de.name)]\n",
    "    print(f\"{len(pheno_list)} significant phenotypes in {orig_perm}\")\n",
    "    zmat_prefix_in = f\"/cluster/projects/p33/users/alexeas/elleke/data/zmat_{orig_perm}\"\n",
    "    zmat_prefix_out = f\"/cluster/projects/p33/users/alexeas/elleke/data/zmat_rsfmri_h205_{orig_perm}\"\n",
    "    extract_zmat_pheno(zmat_prefix_in, pheno_list, zmat_prefix_out)\n"
   ]
  },
  {
   "cell_type": "code",
   "execution_count": 98,
   "id": "401e6bfc",
   "metadata": {},
   "outputs": [
    {
     "name": "stdout",
     "output_type": "stream",
     "text": [
      "273 significant phenotypes\n",
      "273 significant phenotypes in orig\n",
      "273 out of 273 phenotypes found\n",
      "273 significant phenotypes in perm\n",
      "273 out of 273 phenotypes found\n"
     ]
    }
   ],
   "source": [
    "# pheno h2_z > 1.96 + elbow for diffusion N0=65, ND=124, NF=87\n",
    "h2_z_threshold = 1.96\n",
    "h2_dir = \"/cluster/projects/p33/users/elizabept/multimodal/discovery/ldsc/results/h2\"\n",
    "summary_df = pd.read_table(f\"{h2_dir}/summary.txt\")\n",
    "pheno2take =  [p for p in list(summary_df.loc[summary_df.h2_z>h2_z_threshold, \"pheno\"])\n",
    "               if ( p.startswith(\"N0_\") and int(p.split(\"PCs\")[-1])<66 )\n",
    "                  or ( p.startswith(\"ND_\") and int(p.split(\"PCs\")[-1])<125 )\n",
    "                  or ( p.startswith(\"NF_\") and int(p.split(\"PCs\")[-1])<88 ) ]\n",
    "\n",
    "print(f\"{len(pheno2take)} significant phenotypes\")\n",
    "if True:\n",
    "    for orig_perm in [\"orig\", \"perm\"]:\n",
    "        gwas_dir = f\"/cluster/projects/p33/users/elizabept/multimodal/discovery/plink/results/{orig_perm}\"\n",
    "        pheno_list = [de.name for de in os.scandir(gwas_dir) if (de.name.endswith('.linear')) and (de.name.split('.')[1] in pheno2take) and (de.name.split('.')[0].split(\"_\")[-1] in (\"orig\",\"perm\"))]\n",
    "        print(f\"{len(pheno_list)} significant phenotypes in {orig_perm}\")\n",
    "        zmat_prefix_in = f\"/cluster/projects/p33/users/alexeas/elleke/data/zmat_h2z196_elbow_{orig_perm}\"\n",
    "        zmat_prefix_out = f\"/cluster/projects/p33/users/alexeas/elleke/data/zmat_diffusion_h2z196_elbow_{orig_perm}\"\n",
    "        extract_zmat_pheno(zmat_prefix_in, pheno_list, zmat_prefix_out)"
   ]
  },
  {
   "cell_type": "code",
   "execution_count": 97,
   "id": "7300acb1",
   "metadata": {},
   "outputs": [
    {
     "data": {
      "text/plain": [
       "(599, 326, 273)"
      ]
     },
     "execution_count": 97,
     "metadata": {},
     "output_type": "execute_result"
    }
   ],
   "source": [
    "171+155+124+87+65-3, 171+155, 124+87+65-3"
   ]
  },
  {
   "cell_type": "code",
   "execution_count": 27,
   "id": "319f44f6",
   "metadata": {},
   "outputs": [
    {
     "data": {
      "text/html": [
       "<div>\n",
       "<style scoped>\n",
       "    .dataframe tbody tr th:only-of-type {\n",
       "        vertical-align: middle;\n",
       "    }\n",
       "\n",
       "    .dataframe tbody tr th {\n",
       "        vertical-align: top;\n",
       "    }\n",
       "\n",
       "    .dataframe thead th {\n",
       "        text-align: right;\n",
       "    }\n",
       "</style>\n",
       "<table border=\"1\" class=\"dataframe\">\n",
       "  <thead>\n",
       "    <tr style=\"text-align: right;\">\n",
       "      <th></th>\n",
       "      <th>pheno</th>\n",
       "      <th>h2</th>\n",
       "      <th>h2_se</th>\n",
       "      <th>Labmda_GC</th>\n",
       "      <th>Mean_Chi2</th>\n",
       "      <th>Intercept</th>\n",
       "      <th>Intercept_se</th>\n",
       "      <th>Ratio</th>\n",
       "      <th>Ratio_se</th>\n",
       "      <th>h2_z</th>\n",
       "    </tr>\n",
       "  </thead>\n",
       "  <tbody>\n",
       "    <tr>\n",
       "      <th>0</th>\n",
       "      <td>3rd_Ventricle</td>\n",
       "      <td>0.2826</td>\n",
       "      <td>0.0245</td>\n",
       "      <td>1.1523</td>\n",
       "      <td>1.2123</td>\n",
       "      <td>1.0223</td>\n",
       "      <td>0.0069</td>\n",
       "      <td>0.1052</td>\n",
       "      <td>0.0323</td>\n",
       "      <td>11.53470</td>\n",
       "    </tr>\n",
       "    <tr>\n",
       "      <th>1</th>\n",
       "      <td>4th_Ventricle</td>\n",
       "      <td>0.3143</td>\n",
       "      <td>0.0258</td>\n",
       "      <td>1.1747</td>\n",
       "      <td>1.2431</td>\n",
       "      <td>1.0274</td>\n",
       "      <td>0.0089</td>\n",
       "      <td>0.1127</td>\n",
       "      <td>0.0365</td>\n",
       "      <td>12.18220</td>\n",
       "    </tr>\n",
       "    <tr>\n",
       "      <th>2</th>\n",
       "      <td>5th_Ventricle</td>\n",
       "      <td>0.0653</td>\n",
       "      <td>0.0139</td>\n",
       "      <td>1.0557</td>\n",
       "      <td>1.0479</td>\n",
       "      <td>1.0043</td>\n",
       "      <td>0.0060</td>\n",
       "      <td>0.09</td>\n",
       "      <td>0.1257</td>\n",
       "      <td>4.69784</td>\n",
       "    </tr>\n",
       "    <tr>\n",
       "      <th>3</th>\n",
       "      <td>Brain_Stem</td>\n",
       "      <td>0.3080</td>\n",
       "      <td>0.0236</td>\n",
       "      <td>1.1683</td>\n",
       "      <td>1.2239</td>\n",
       "      <td>1.0153</td>\n",
       "      <td>0.0072</td>\n",
       "      <td>0.0685</td>\n",
       "      <td>0.0323</td>\n",
       "      <td>13.05080</td>\n",
       "    </tr>\n",
       "    <tr>\n",
       "      <th>4</th>\n",
       "      <td>CC_Anterior</td>\n",
       "      <td>0.3140</td>\n",
       "      <td>0.0252</td>\n",
       "      <td>1.1747</td>\n",
       "      <td>1.2319</td>\n",
       "      <td>1.0219</td>\n",
       "      <td>0.0082</td>\n",
       "      <td>0.0946</td>\n",
       "      <td>0.0354</td>\n",
       "      <td>12.46030</td>\n",
       "    </tr>\n",
       "  </tbody>\n",
       "</table>\n",
       "</div>"
      ],
      "text/plain": [
       "           pheno      h2   h2_se  Labmda_GC  Mean_Chi2  Intercept  \\\n",
       "0  3rd_Ventricle  0.2826  0.0245     1.1523     1.2123     1.0223   \n",
       "1  4th_Ventricle  0.3143  0.0258     1.1747     1.2431     1.0274   \n",
       "2  5th_Ventricle  0.0653  0.0139     1.0557     1.0479     1.0043   \n",
       "3     Brain_Stem  0.3080  0.0236     1.1683     1.2239     1.0153   \n",
       "4    CC_Anterior  0.3140  0.0252     1.1747     1.2319     1.0219   \n",
       "\n",
       "   Intercept_se   Ratio Ratio_se      h2_z  \n",
       "0        0.0069  0.1052   0.0323  11.53470  \n",
       "1        0.0089  0.1127   0.0365  12.18220  \n",
       "2        0.0060    0.09   0.1257   4.69784  \n",
       "3        0.0072  0.0685   0.0323  13.05080  \n",
       "4        0.0082  0.0946   0.0354  12.46030  "
      ]
     },
     "execution_count": 27,
     "metadata": {},
     "output_type": "execute_result"
    }
   ],
   "source": [
    "# h2 plot\n",
    "h2_dir = \"/cluster/projects/p33/users/elizabept/multimodal/discovery/ldsc/results/h2\"\n",
    "summary_df = pd.read_table(f\"{h2_dir}/summary.txt\")\n",
    "summary_df.head()"
   ]
  },
  {
   "cell_type": "code",
   "execution_count": 17,
   "id": "7c9d671e",
   "metadata": {},
   "outputs": [
    {
     "name": "stdout",
     "output_type": "stream",
     "text": [
      "['N0_PCs1', 'N0_PCs2', 'N0_PCs3', 'N0_PCs4', 'N0_PCs5']\n"
     ]
    },
    {
     "data": {
      "image/png": "[encoded data removed]",
      "text/plain": [
       "<Figure size 432x288 with 1 Axes>"
      ]
     },
     "metadata": {
      "needs_background": "light"
     },
     "output_type": "display_data"
    }
   ],
   "source": [
    "# N0\n",
    "N0_dict = {p:h2 for p,h2 in zip(summary_df.pheno,summary_df.h2) if p.startswith(\"N0\")}\n",
    "N0_h2_array = [h2 for p,h2 in sorted(N0_dict.items(), key=lambda ph: int(ph[0][6:]))]\n",
    "N0_p_array = [p for p,h2 in sorted(N0_dict.items(), key=lambda ph: int(ph[0][6:]))]\n",
    "print(N0_p_array[:5])\n",
    "_=plt.scatter(range(len(N0_h2_array)), N0_h2_array)\n",
    "_=plt.title(\"N0\")"
   ]
  },
  {
   "cell_type": "code",
   "execution_count": 18,
   "id": "36c1a40f",
   "metadata": {},
   "outputs": [
    {
     "name": "stdout",
     "output_type": "stream",
     "text": [
      "['ND_PCs1', 'ND_PCs2', 'ND_PCs3', 'ND_PCs4', 'ND_PCs5']\n"
     ]
    },
    {
     "data": {
      "image/png": "[encoded data removed]",
      "text/plain": [
       "<Figure size 432x288 with 1 Axes>"
      ]
     },
     "metadata": {
      "needs_background": "light"
     },
     "output_type": "display_data"
    }
   ],
   "source": [
    "# ND\n",
    "ND_dict = {p:h2 for p,h2 in zip(summary_df.pheno,summary_df.h2) if p.startswith(\"ND\")}\n",
    "ND_h2_array = [h2 for p,h2 in sorted(ND_dict.items(), key=lambda ph: int(ph[0][6:]))]\n",
    "ND_p_array = [p for p,h2 in sorted(ND_dict.items(), key=lambda ph: int(ph[0][6:]))]\n",
    "print(ND_p_array[:5])\n",
    "_=plt.scatter(range(len(ND_h2_array)), ND_h2_array)\n",
    "_=plt.title(\"ND\")"
   ]
  },
  {
   "cell_type": "code",
   "execution_count": 19,
   "id": "1acedeaf",
   "metadata": {},
   "outputs": [
    {
     "name": "stdout",
     "output_type": "stream",
     "text": [
      "['NF_PCs1', 'NF_PCs2', 'NF_PCs3', 'NF_PCs4', 'NF_PCs5']\n"
     ]
    },
    {
     "data": {
      "image/png": "[encoded data removed]",
      "text/plain": [
       "<Figure size 432x288 with 1 Axes>"
      ]
     },
     "metadata": {
      "needs_background": "light"
     },
     "output_type": "display_data"
    }
   ],
   "source": [
    "# NF\n",
    "NF_dict = {p:h2 for p,h2 in zip(summary_df.pheno,summary_df.h2) if p.startswith(\"NF\")}\n",
    "NF_h2_array = [h2 for p,h2 in sorted(NF_dict.items(), key=lambda ph: int(ph[0][6:]))]\n",
    "NF_p_array = [p for p,h2 in sorted(NF_dict.items(), key=lambda ph: int(ph[0][6:]))]\n",
    "print(NF_p_array[:5])\n",
    "_=plt.scatter(range(len(NF_h2_array)), NF_h2_array)\n",
    "_=plt.title(\"NF\")"
   ]
  },
  {
   "cell_type": "code",
   "execution_count": 23,
   "id": "08c3b055",
   "metadata": {},
   "outputs": [
    {
     "data": {
      "image/png": "[encoded data removed]",
      "text/plain": [
       "<Figure size 432x288 with 1 Axes>"
      ]
     },
     "metadata": {
      "needs_background": "light"
     },
     "output_type": "display_data"
    }
   ],
   "source": [
    "plt.scatter(range(len(N0_h2_array)), N0_h2_array, s=5, label=\"N0\")\n",
    "plt.scatter(range(len(ND_h2_array)), ND_h2_array, s=5, label=\"ND\")\n",
    "plt.scatter(range(len(NF_h2_array)), NF_h2_array, s=5, label=\"NF\")\n",
    "plt.legend()\n",
    "_=plt.title(\"N0 ND NF\")"
   ]
  },
  {
   "cell_type": "code",
   "execution_count": 29,
   "id": "00f3dcc2",
   "metadata": {},
   "outputs": [
    {
     "data": {
      "text/html": [
       "<div>\n",
       "<style scoped>\n",
       "    .dataframe tbody tr th:only-of-type {\n",
       "        vertical-align: middle;\n",
       "    }\n",
       "\n",
       "    .dataframe tbody tr th {\n",
       "        vertical-align: top;\n",
       "    }\n",
       "\n",
       "    .dataframe thead th {\n",
       "        text-align: right;\n",
       "    }\n",
       "</style>\n",
       "<table border=\"1\" class=\"dataframe\">\n",
       "  <thead>\n",
       "    <tr style=\"text-align: right;\">\n",
       "      <th></th>\n",
       "      <th>pheno</th>\n",
       "      <th>h2</th>\n",
       "      <th>h2_se</th>\n",
       "      <th>Labmda_GC</th>\n",
       "      <th>Mean_Chi2</th>\n",
       "      <th>Intercept</th>\n",
       "      <th>Intercept_se</th>\n",
       "      <th>Ratio</th>\n",
       "      <th>Ratio_se</th>\n",
       "      <th>h2_z</th>\n",
       "    </tr>\n",
       "  </thead>\n",
       "  <tbody>\n",
       "    <tr>\n",
       "      <th>8</th>\n",
       "      <td>CC_Posterior</td>\n",
       "      <td>0.3557</td>\n",
       "      <td>0.0252</td>\n",
       "      <td>1.1843</td>\n",
       "      <td>1.2660</td>\n",
       "      <td>1.0234</td>\n",
       "      <td>0.0073</td>\n",
       "      <td>0.088</td>\n",
       "      <td>0.0276</td>\n",
       "      <td>14.11510</td>\n",
       "    </tr>\n",
       "    <tr>\n",
       "      <th>221</th>\n",
       "      <td>Left_Caudate</td>\n",
       "      <td>0.3452</td>\n",
       "      <td>0.0259</td>\n",
       "      <td>1.1876</td>\n",
       "      <td>1.2480</td>\n",
       "      <td>1.0189</td>\n",
       "      <td>0.0088</td>\n",
       "      <td>0.0762</td>\n",
       "      <td>0.0357</td>\n",
       "      <td>13.32820</td>\n",
       "    </tr>\n",
       "    <tr>\n",
       "      <th>274</th>\n",
       "      <td>lh_pericalcarine_area</td>\n",
       "      <td>0.3360</td>\n",
       "      <td>0.0273</td>\n",
       "      <td>1.1619</td>\n",
       "      <td>1.2492</td>\n",
       "      <td>1.0185</td>\n",
       "      <td>0.0080</td>\n",
       "      <td>0.0744</td>\n",
       "      <td>0.0319</td>\n",
       "      <td>12.30770</td>\n",
       "    </tr>\n",
       "    <tr>\n",
       "      <th>1344</th>\n",
       "      <td>ND_PCs13</td>\n",
       "      <td>0.3231</td>\n",
       "      <td>0.0280</td>\n",
       "      <td>1.1555</td>\n",
       "      <td>1.2090</td>\n",
       "      <td>1.0165</td>\n",
       "      <td>0.0079</td>\n",
       "      <td>0.0788</td>\n",
       "      <td>0.0378</td>\n",
       "      <td>11.53930</td>\n",
       "    </tr>\n",
       "    <tr>\n",
       "      <th>7</th>\n",
       "      <td>CC_Mid_Posterior</td>\n",
       "      <td>0.3181</td>\n",
       "      <td>0.0197</td>\n",
       "      <td>1.1619</td>\n",
       "      <td>1.2150</td>\n",
       "      <td>0.9995</td>\n",
       "      <td>0.0064</td>\n",
       "      <td>&lt;</td>\n",
       "      <td>NaN</td>\n",
       "      <td>16.14720</td>\n",
       "    </tr>\n",
       "    <tr>\n",
       "      <th>...</th>\n",
       "      <td>...</td>\n",
       "      <td>...</td>\n",
       "      <td>...</td>\n",
       "      <td>...</td>\n",
       "      <td>...</td>\n",
       "      <td>...</td>\n",
       "      <td>...</td>\n",
       "      <td>...</td>\n",
       "      <td>...</td>\n",
       "      <td>...</td>\n",
       "    </tr>\n",
       "    <tr>\n",
       "      <th>18</th>\n",
       "      <td>edge109</td>\n",
       "      <td>-0.0185</td>\n",
       "      <td>0.0137</td>\n",
       "      <td>0.9957</td>\n",
       "      <td>1.0015</td>\n",
       "      <td>1.0128</td>\n",
       "      <td>0.0059</td>\n",
       "      <td>8.7606</td>\n",
       "      <td>4.0579</td>\n",
       "      <td>-1.35036</td>\n",
       "    </tr>\n",
       "    <tr>\n",
       "      <th>2936</th>\n",
       "      <td>NF_PCs673</td>\n",
       "      <td>-0.0196</td>\n",
       "      <td>0.0125</td>\n",
       "      <td>1.0075</td>\n",
       "      <td>1.0057</td>\n",
       "      <td>1.0174</td>\n",
       "      <td>0.0058</td>\n",
       "      <td>3.026</td>\n",
       "      <td>1.0123</td>\n",
       "      <td>-1.56800</td>\n",
       "    </tr>\n",
       "    <tr>\n",
       "      <th>2872</th>\n",
       "      <td>NF_PCs615</td>\n",
       "      <td>-0.0203</td>\n",
       "      <td>0.0147</td>\n",
       "      <td>1.0016</td>\n",
       "      <td>0.9969</td>\n",
       "      <td>1.0090</td>\n",
       "      <td>0.0063</td>\n",
       "      <td>NaN</td>\n",
       "      <td>mea</td>\n",
       "      <td>-1.38095</td>\n",
       "    </tr>\n",
       "    <tr>\n",
       "      <th>1922</th>\n",
       "      <td>ND_PCs660</td>\n",
       "      <td>-0.0207</td>\n",
       "      <td>0.0139</td>\n",
       "      <td>0.9986</td>\n",
       "      <td>0.9983</td>\n",
       "      <td>1.0105</td>\n",
       "      <td>0.0059</td>\n",
       "      <td>NaN</td>\n",
       "      <td>mea</td>\n",
       "      <td>-1.48921</td>\n",
       "    </tr>\n",
       "    <tr>\n",
       "      <th>750</th>\n",
       "      <td>N0_PCs505</td>\n",
       "      <td>-0.0306</td>\n",
       "      <td>0.0155</td>\n",
       "      <td>0.9986</td>\n",
       "      <td>1.0019</td>\n",
       "      <td>1.0201</td>\n",
       "      <td>0.0069</td>\n",
       "      <td>10.4666</td>\n",
       "      <td>3.5948</td>\n",
       "      <td>-1.97419</td>\n",
       "    </tr>\n",
       "  </tbody>\n",
       "</table>\n",
       "<p>3401 rows × 10 columns</p>\n",
       "</div>"
      ],
      "text/plain": [
       "                      pheno      h2   h2_se  Labmda_GC  Mean_Chi2  Intercept  \\\n",
       "8              CC_Posterior  0.3557  0.0252     1.1843     1.2660     1.0234   \n",
       "221            Left_Caudate  0.3452  0.0259     1.1876     1.2480     1.0189   \n",
       "274   lh_pericalcarine_area  0.3360  0.0273     1.1619     1.2492     1.0185   \n",
       "1344               ND_PCs13  0.3231  0.0280     1.1555     1.2090     1.0165   \n",
       "7          CC_Mid_Posterior  0.3181  0.0197     1.1619     1.2150     0.9995   \n",
       "...                     ...     ...     ...        ...        ...        ...   \n",
       "18                  edge109 -0.0185  0.0137     0.9957     1.0015     1.0128   \n",
       "2936              NF_PCs673 -0.0196  0.0125     1.0075     1.0057     1.0174   \n",
       "2872              NF_PCs615 -0.0203  0.0147     1.0016     0.9969     1.0090   \n",
       "1922              ND_PCs660 -0.0207  0.0139     0.9986     0.9983     1.0105   \n",
       "750               N0_PCs505 -0.0306  0.0155     0.9986     1.0019     1.0201   \n",
       "\n",
       "      Intercept_se    Ratio Ratio_se      h2_z  \n",
       "8           0.0073    0.088   0.0276  14.11510  \n",
       "221         0.0088   0.0762   0.0357  13.32820  \n",
       "274         0.0080   0.0744   0.0319  12.30770  \n",
       "1344        0.0079   0.0788   0.0378  11.53930  \n",
       "7           0.0064        <      NaN  16.14720  \n",
       "...            ...      ...      ...       ...  \n",
       "18          0.0059   8.7606   4.0579  -1.35036  \n",
       "2936        0.0058    3.026   1.0123  -1.56800  \n",
       "2872        0.0063      NaN      mea  -1.38095  \n",
       "1922        0.0059      NaN      mea  -1.48921  \n",
       "750         0.0069  10.4666   3.5948  -1.97419  \n",
       "\n",
       "[3401 rows x 10 columns]"
      ]
     },
     "execution_count": 29,
     "metadata": {},
     "output_type": "execute_result"
    }
   ],
   "source": [
    "summary_df.sort_values(by=\"h2\", ascending=False)"
   ]
  },
  {
   "cell_type": "code",
   "execution_count": 86,
   "id": "287772dc",
   "metadata": {},
   "outputs": [
    {
     "data": {
      "text/plain": [
       "170"
      ]
     },
     "execution_count": 86,
     "metadata": {},
     "output_type": "execute_result"
    }
   ],
   "source": [
    "ii = ~np.array([(p.startswith(\"edge\") or\n",
    "                 p.startswith(\"node\") or\n",
    "                 p.startswith(\"N0\") or\n",
    "                 p.startswith(\"ND\") or\n",
    "                 p.startswith(\"NF\")) for p in summary_df.pheno.values]) & (summary_df.h2_z>1.96) \n",
    "ii.sum()"
   ]
  },
  {
   "cell_type": "code",
   "execution_count": 9,
   "id": "ecf11e72",
   "metadata": {},
   "outputs": [
    {
     "name": "stdout",
     "output_type": "stream",
     "text": [
      "2279 phenotypes with h2_z > 1.96\n",
      "2279 GWAS files in /cluster/projects/p33/users/elizabept/multimodal/discovery/plink/results/orig\n",
      "738\n"
     ]
    }
   ],
   "source": [
    "# Save orig z scores\n",
    "# Phenotypes in rows, variants in columns.\n",
    "# Sort phenotypes in lexicographical order, the order of variants is as in reference bim file.\n",
    "orig_dir = os.path.join(gwas_dir, \"orig\")\n",
    "zmat_prefix = \"/cluster/projects/p33/users/alexeas/elleke/data/zmat_h2z196_elbow_orig_040522\"\n",
    "gwas_des = get_gwas_des(orig_dir, summary_df, h2_z_threshold=1.96, contains_str=None)\n",
    "gwas_des_elbow = []\n",
    "#gwas_des = [de for de in gwas_des if not ((\"node\" in de.name) or (\"edge\" in de.name))] # drop old functional\n",
    "for de in gwas_des:\n",
    "    p = de.name.split(\".\")[1]\n",
    "    if ( not (p.startswith(\"N0_\") or p.startswith(\"ND_\") or p.startswith(\"NF_\"))\n",
    "                  or ( p.startswith(\"N0_\") and int(p.split(\"PCs\")[-1])<66 )\n",
    "                  or ( p.startswith(\"ND_\") and int(p.split(\"PCs\")[-1])<125 )\n",
    "                  or ( p.startswith(\"NF_\") and int(p.split(\"PCs\")[-1])<88 ) ):\n",
    "        gwas_des_elbow.append(de)\n",
    "\n",
    "print(len(gwas_des_elbow))"
   ]
  },
  {
   "cell_type": "code",
   "execution_count": 34,
   "id": "b0096605",
   "metadata": {},
   "outputs": [
    {
     "name": "stdout",
     "output_type": "stream",
     "text": [
      "522 phenotypes\n",
      "(8175329, 2)\n"
     ]
    },
    {
     "data": {
      "text/html": [
       "<div>\n",
       "<style scoped>\n",
       "    .dataframe tbody tr th:only-of-type {\n",
       "        vertical-align: middle;\n",
       "    }\n",
       "\n",
       "    .dataframe tbody tr th {\n",
       "        vertical-align: top;\n",
       "    }\n",
       "\n",
       "    .dataframe thead th {\n",
       "        text-align: right;\n",
       "    }\n",
       "</style>\n",
       "<table border=\"1\" class=\"dataframe\">\n",
       "  <thead>\n",
       "    <tr style=\"text-align: right;\">\n",
       "      <th></th>\n",
       "      <th>SNP</th>\n",
       "      <th>A1</th>\n",
       "    </tr>\n",
       "  </thead>\n",
       "  <tbody>\n",
       "    <tr>\n",
       "      <th>0</th>\n",
       "      <td>rs75935175</td>\n",
       "      <td>G</td>\n",
       "    </tr>\n",
       "    <tr>\n",
       "      <th>1</th>\n",
       "      <td>rs61769339</td>\n",
       "      <td>A</td>\n",
       "    </tr>\n",
       "    <tr>\n",
       "      <th>2</th>\n",
       "      <td>rs61769340</td>\n",
       "      <td>G</td>\n",
       "    </tr>\n",
       "    <tr>\n",
       "      <th>3</th>\n",
       "      <td>rs146067153</td>\n",
       "      <td>T</td>\n",
       "    </tr>\n",
       "    <tr>\n",
       "      <th>4</th>\n",
       "      <td>rs879846651</td>\n",
       "      <td>G</td>\n",
       "    </tr>\n",
       "  </tbody>\n",
       "</table>\n",
       "</div>"
      ],
      "text/plain": [
       "           SNP A1\n",
       "0   rs75935175  G\n",
       "1   rs61769339  A\n",
       "2   rs61769340  G\n",
       "3  rs146067153  T\n",
       "4  rs879846651  G"
      ]
     },
     "execution_count": 34,
     "metadata": {},
     "output_type": "execute_result"
    }
   ],
   "source": [
    "# replication in ABCD European\n",
    "gwas_dir = \"/cluster/projects/p33/users/elizabept/multimodal/replication/plink/results/eur\"\n",
    "ref_bim = \"/cluster/projects/p33/users/elizabept/multimodal/replication/genos/results/eur/ABCDv3_QCed_hg19_040522.bim\"\n",
    "pheno_file = \"/cluster/projects/p33/users/elizabept/multimodal/replication/plink/data/multimodal_phenotypes.txt\"\n",
    "pheno = list(pd.read_csv(pheno_file, header=None).squeeze())\n",
    "print(f\"{len(pheno)} phenotypes\")\n",
    "bim = pd.read_csv(ref_bim, sep='\\t', header=None, names=[\"SNP\",\"A1\"], usecols=[1,4])\n",
    "print(bim.shape)\n",
    "bim.head()"
   ]
  },
  {
   "cell_type": "code",
   "execution_count": 35,
   "id": "e2c46837",
   "metadata": {},
   "outputs": [
    {
     "name": "stdout",
     "output_type": "stream",
     "text": [
      "522\n",
      "0 1 2 3 4 5 6 7 8 9 10 11 12 13 14 15 16 17 18 19 20 21 22 23 24 25 26 27 28 29 30 31 32 33 34 35 36 37 38 39 40 41 42 43 44 45 46 47 48 49 50 51 52 53 54 55 56 57 58 59 60 61 62 63 64 65 66 67 68 69 70 71 72 73 74 75 76 77 78 79 80 81 82 83 84 85 86 87 88 89 90 91 92 93 94 95 96 97 98 99 100 101 102 103 104 105 106 107 108 109 110 111 112 113 114 115 116 117 118 119 120 121 122 123 124 125 126 127 128 129 130 131 132 133 134 135 136 137 138 139 140 141 142 143 144 145 146 147 148 149 150 151 152 153 154 155 156 157 158 159 160 161 162 163 164 165 166 167 168 169 170 171 172 173 174 175 176 177 178 179 180 181 182 183 184 185 186 187 188 189 190 191 192 193 194 195 196 197 198 199 200 201 202 203 204 205 206 207 208 209 210 211 212 213 214 215 216 217 218 219 220 221 222 223 224 225 226 227 228 229 230 231 232 233 234 235 236 237 238 239 240 241 242 243 244 245 246 247 248 249 250 251 252 253 254 255 256 257 258 259 260 261 262 263 264 265 266 267 268 269 270 271 272 273 274 275 276 277 278 279 280 281 282 283 284 285 286 287 288 289 290 291 292 293 294 295 296 297 298 299 300 301 302 303 304 305 306 307 308 309 310 311 312 313 314 315 316 317 318 319 320 321 322 323 324 325 326 327 328 329 330 331 332 333 334 335 336 337 338 339 340 341 342 343 344 345 346 347 348 349 350 351 352 353 354 355 356 357 358 359 360 361 362 363 364 365 366 367 368 369 370 371 372 373 374 375 376 377 378 379 380 381 382 383 384 385 386 387 388 389 390 391 392 393 394 395 396 397 398 399 400 401 402 403 404 405 406 407 408 409 410 411 412 413 414 415 416 417 418 419 420 421 422 423 424 425 426 427 428 429 430 431 432 433 434 435 436 437 438 439 440 441 442 443 444 445 446 447 448 449 450 451 452 453 454 455 456 457 458 459 460 461 462 463 464 465 466 467 468 469 470 471 472 473 474 475 476 477 478 479 480 481 482 483 484 485 486 487 488 489 490 491 492 493 494 495 496 497 498 499 500 501 502 503 504 505 506 507 508 509 510 511 512 513 514 515 516 517 518 519 520 521 522\n",
      "0 1 2 3 4 5 6 7 8 9 10 11 12 13 14 15 16 17 18 19 20 21 22 23 24 25 26 27 28 29 30 31 32 33 34 35 36 37 38 39 40 41 42 43 44 45 46 47 48 49 50 51 52 53 54 55 56 57 58 59 60 61 62 63 64 65 66 67 68 69 70 71 72 73 74 75 76 77 78 79 80 81 82 83 84 85 86 87 88 89 90 91 92 93 94 95 96 97 98 99 100 101 102 103 104 105 106 107 108 109 110 111 112 113 114 115 116 117 118 119 120 121 122 123 124 125 126 127 128 129 130 131 132 133 134 135 136 137 138 139 140 141 142 143 144 145 146 147 148 149 150 151 152 153 154 155 156 157 158 159 160 161 162 163 164 165 166 167 168 169 170 171 172 173 174 175 176 177 178 179 180 181 182 183 184 185 186 187 188 189 190 191 192 193 194 195 196 197 198 199 200 201 202 203 204 205 206 207 208 209 210 211 212 213 214 215 216 217 218 219 220 221 222 223 224 225 226 227 228 229 230 231 232 233 234 235 236 237 238 239 240 241 242 243 244 245 246 247 248 249 250 251 252 253 254 255 256 257 258 259 260 261 262 263 264 265 266 267 268 269 270 271 272 273 274 275 276 277 278 279 280 281 282 283 284 285 286 287 288 289 290 291 292 293 294 295 296 297 298 299 300 301 302 303 304 305 306 307 308 309 310 311 312 313 314 315 316 317 318 319 320 321 322 323 324 325 326 327 328 329 330 331 332 333 334 335 336 337 338 339 340 341 342 343 344 345 346 347 348 349 350 351 352 353 354 355 356 357 358 359 360 361 362 363 364 365 366 367 368 369 370 371 372 373 374 375 376 377 378 379 380 381 382 383 384 385 386 387 388 389 390 391 392 393 394 395 396 397 398 399 400 401 402 403 404 405 406 407 408 409 410 411 412 413 414 415 416 417 418 419 420 421 422 423 424 425 426 427 428 429 430 431 432 433 434 435 436 437 438 439 440 441 442 443 444 445 446 447 448 449 450 451 452 453 454 455 456 457 458 459 460 461 462 463 464 465 466 467 468 469 470 471 472 473 474 475 476 477 478 479 480 481 482 483 484 485 486 487 488 489 490 491 492 493 494 495 496 497 498 499 500 501 502 503 504 505 506 507 508 509 510 511 512 513 514 515 516 517 518 519 520 521 "
     ]
    }
   ],
   "source": [
    "for t in [\"orig\", \"perm\"]:\n",
    "    in_dir = os.path.join(gwas_dir, t)\n",
    "    zmat_prefix = f\"/cluster/projects/p33/users/alexeas/elleke/data/zmat_replication_eur_multimodal_{t}_140522\"\n",
    "    gwas_des = get_gwas_des_from_pheno_list(in_dir, pheno)\n",
    "    print(len(gwas_des))\n",
    "    save_zmat(gwas_des, zmat_prefix, bim) "
   ]
  },
  {
   "cell_type": "code",
   "execution_count": 36,
   "id": "78cc1f4f",
   "metadata": {},
   "outputs": [
    {
     "name": "stdout",
     "output_type": "stream",
     "text": [
      "522 phenotypes\n",
      "(9188496, 2)\n"
     ]
    },
    {
     "data": {
      "text/html": [
       "<div>\n",
       "<style scoped>\n",
       "    .dataframe tbody tr th:only-of-type {\n",
       "        vertical-align: middle;\n",
       "    }\n",
       "\n",
       "    .dataframe tbody tr th {\n",
       "        vertical-align: top;\n",
       "    }\n",
       "\n",
       "    .dataframe thead th {\n",
       "        text-align: right;\n",
       "    }\n",
       "</style>\n",
       "<table border=\"1\" class=\"dataframe\">\n",
       "  <thead>\n",
       "    <tr style=\"text-align: right;\">\n",
       "      <th></th>\n",
       "      <th>SNP</th>\n",
       "      <th>A1</th>\n",
       "    </tr>\n",
       "  </thead>\n",
       "  <tbody>\n",
       "    <tr>\n",
       "      <th>0</th>\n",
       "      <td>rs536226227</td>\n",
       "      <td>A</td>\n",
       "    </tr>\n",
       "    <tr>\n",
       "      <th>1</th>\n",
       "      <td>rs61769339</td>\n",
       "      <td>A</td>\n",
       "    </tr>\n",
       "    <tr>\n",
       "      <th>2</th>\n",
       "      <td>rs200188737</td>\n",
       "      <td>T</td>\n",
       "    </tr>\n",
       "    <tr>\n",
       "      <th>3</th>\n",
       "      <td>rs138476838</td>\n",
       "      <td>A</td>\n",
       "    </tr>\n",
       "    <tr>\n",
       "      <th>4</th>\n",
       "      <td>rs146067153</td>\n",
       "      <td>T</td>\n",
       "    </tr>\n",
       "  </tbody>\n",
       "</table>\n",
       "</div>"
      ],
      "text/plain": [
       "           SNP A1\n",
       "0  rs536226227  A\n",
       "1   rs61769339  A\n",
       "2  rs200188737  T\n",
       "3  rs138476838  A\n",
       "4  rs146067153  T"
      ]
     },
     "execution_count": 36,
     "metadata": {},
     "output_type": "execute_result"
    }
   ],
   "source": [
    "# replication in ABCD Mixed\n",
    "gwas_dir = \"/cluster/projects/p33/users/elizabept/multimodal/replication/plink/results/mixed\"\n",
    "ref_bim = \"/cluster/projects/p33/users/elizabept/multimodal/replication/genos/results/mixed/ABCDv3_QCed_hg19_040522.bim\"\n",
    "pheno_file = \"/cluster/projects/p33/users/elizabept/multimodal/replication/plink/data/multimodal_phenotypes.txt\"\n",
    "pheno = list(pd.read_csv(pheno_file, header=None).squeeze())\n",
    "print(f\"{len(pheno)} phenotypes\")\n",
    "bim = pd.read_csv(ref_bim, sep='\\t', header=None, names=[\"SNP\",\"A1\"], usecols=[1,4])\n",
    "print(bim.shape)\n",
    "bim.head()"
   ]
  },
  {
   "cell_type": "code",
   "execution_count": 37,
   "id": "b6e740b3",
   "metadata": {},
   "outputs": [
    {
     "name": "stdout",
     "output_type": "stream",
     "text": [
      "522\n",
      "0 1 2 3 4 5 6 7 8 9 10 11 12 13 14 15 16 17 18 19 20 21 22 23 24 25 26 27 28 29 30 31 32 33 34 35 36 37 38 39 40 41 42 43 44 45 46 47 48 49 50 51 52 53 54 55 56 57 58 59 60 61 62 63 64 65 66 67 68 69 70 71 72 73 74 75 76 77 78 79 80 81 82 83 84 85 86 87 88 89 90 91 92 93 94 95 96 97 98 99 100 101 102 103 104 105 106 107 108 109 110 111 112 113 114 115 116 117 118 119 120 121 122 123 124 125 126 127 128 129 130 131 132 133 134 135 136 137 138 139 140 141 142 143 144 145 146 147 148 149 150 151 152 153 154 155 156 157 158 159 160 161 162 163 164 165 166 167 168 169 170 171 172 173 174 175 176 177 178 179 180 181 182 183 184 185 186 187 188 189 190 191 192 193 194 195 196 197 198 199 200 201 202 203 204 205 206 207 208 209 210 211 212 213 214 215 216 217 218 219 220 221 222 223 224 225 226 227 228 229 230 231 232 233 234 235 236 237 238 239 240 241 242 243 244 245 246 247 248 249 250 251 252 253 254 255 256 257 258 259 260 261 262 263 264 265 266 267 268 269 270 271 272 273 274 275 276 277 278 279 280 281 282 283 284 285 286 287 288 289 290 291 292 293 294 295 296 297 298 299 300 301 302 303 304 305 306 307 308 309 310 311 312 313 314 315 316 317 318 319 320 321 322 323 324 325 326 327 328 329 330 331 332 333 334 335 336 337 338 339 340 341 342 343 344 345 346 347 348 349 350 351 352 353 354 355 356 357 358 359 360 361 362 363 364 365 366 367 368 369 370 371 372 373 374 375 376 377 378 379 380 381 382 383 384 385 386 387 388 389 390 391 392 393 394 395 396 397 398 399 400 401 402 403 404 405 406 407 408 409 410 411 412 413 414 415 416 417 418 419 420 421 422 423 424 425 426 427 428 429 430 431 432 433 434 435 436 437 438 439 440 441 442 443 444 445 446 447 448 449 450 451 452 453 454 455 456 457 458 459 460 461 462 463 464 465 466 467 468 469 470 471 472 473 474 475 476 477 478 479 480 481 482 483 484 485 486 487 488 489 490 491 492 493 494 495 496 497 498 499 500 501 502 503 504 505 506 507 508 509 510 511 512 513 514 515 516 517 518 519 520 521 522\n",
      "0 1 2 3 4 5 6 7 8 9 10 11 12 13 14 15 16 17 18 19 20 21 22 23 24 25 26 27 28 29 30 31 32 33 34 35 36 37 38 39 40 41 42 43 44 45 46 47 48 49 50 51 52 53 54 55 56 57 58 59 60 61 62 63 64 65 66 67 68 69 70 71 72 73 74 75 76 77 78 79 80 81 82 83 84 85 86 87 88 89 90 91 92 93 94 95 96 97 98 99 100 101 102 103 104 105 106 107 108 109 110 111 112 113 114 115 116 117 118 119 120 121 122 123 124 125 126 127 128 129 130 131 132 133 134 135 136 137 138 139 140 141 142 143 144 145 146 147 148 149 150 151 152 153 154 155 156 157 158 159 160 161 162 163 164 165 166 167 168 169 170 171 172 173 174 175 176 177 178 179 180 181 182 183 184 185 186 187 188 189 190 191 192 193 194 195 196 197 198 199 200 201 202 203 204 205 206 207 208 209 210 211 212 213 214 215 216 217 218 219 220 221 222 223 224 225 226 227 228 229 230 231 232 233 234 235 236 237 238 239 240 241 242 243 244 245 246 247 248 249 250 251 252 253 254 255 256 257 258 259 260 261 262 263 264 265 266 267 268 269 270 271 272 273 274 275 276 277 278 279 280 281 282 283 284 285 286 287 288 289 290 291 292 293 294 295 296 297 298 299 300 301 302 303 304 305 306 307 308 309 310 311 312 313 314 315 316 317 318 319 320 321 322 323 324 325 326 327 328 329 330 331 332 333 334 335 336 337 338 339 340 341 342 343 344 345 346 347 348 349 350 351 352 353 354 355 356 357 358 359 360 361 362 363 364 365 366 367 368 369 370 371 372 373 374 375 376 377 378 379 380 381 382 383 384 385 386 387 388 389 390 391 392 393 394 395 396 397 398 399 400 401 402 403 404 405 406 407 408 409 410 411 412 413 414 415 416 417 418 419 420 421 422 423 424 425 426 427 428 429 430 431 432 433 434 435 436 437 438 439 440 441 442 443 444 445 446 447 448 449 450 451 452 453 454 455 456 457 458 459 460 461 462 463 464 465 466 467 468 469 470 471 472 473 474 475 476 477 478 479 480 481 482 483 484 485 486 487 488 489 490 491 492 493 494 495 496 497 498 499 500 501 502 503 504 505 506 507 508 509 510 511 512 513 514 515 516 517 518 519 520 521 "
     ]
    }
   ],
   "source": [
    "for t in [\"orig\", \"perm\"]:\n",
    "    in_dir = os.path.join(gwas_dir, t)\n",
    "    zmat_prefix = f\"/cluster/projects/p33/users/alexeas/elleke/data/zmat_replication_mixed_multimodal_{t}_140522\"\n",
    "    gwas_des = get_gwas_des_from_pheno_list(in_dir, pheno)\n",
    "    print(len(gwas_des))\n",
    "    save_zmat(gwas_des, zmat_prefix, bim) "
   ]
  },
  {
   "cell_type": "code",
   "execution_count": 41,
   "id": "1c4d5854",
   "metadata": {},
   "outputs": [
    {
     "name": "stdout",
     "output_type": "stream",
     "text": [
      "Making orig z matrix for eur.\n",
      "    168 phenotypes in T1.\n",
      "        168 phenotypes found.\n",
      "168 out of 168 phenotypes found\n",
      "    78 phenotypes in rsfmri.\n",
      "        78 phenotypes found.\n",
      "78 out of 78 phenotypes found\n",
      "    276 phenotypes in diffusion.\n",
      "        276 phenotypes found.\n",
      "276 out of 276 phenotypes found\n",
      "Making perm z matrix for eur.\n",
      "    168 phenotypes in T1.\n",
      "        168 phenotypes found.\n",
      "168 out of 168 phenotypes found\n",
      "    78 phenotypes in rsfmri.\n",
      "        78 phenotypes found.\n",
      "78 out of 78 phenotypes found\n",
      "    276 phenotypes in diffusion.\n",
      "        276 phenotypes found.\n",
      "276 out of 276 phenotypes found\n",
      "Making orig z matrix for mixed.\n",
      "    168 phenotypes in T1.\n",
      "        168 phenotypes found.\n",
      "168 out of 168 phenotypes found\n",
      "    78 phenotypes in rsfmri.\n",
      "        78 phenotypes found.\n",
      "78 out of 78 phenotypes found\n",
      "    276 phenotypes in diffusion.\n",
      "        276 phenotypes found.\n",
      "276 out of 276 phenotypes found\n",
      "Making perm z matrix for mixed.\n",
      "    168 phenotypes in T1.\n",
      "        168 phenotypes found.\n",
      "168 out of 168 phenotypes found\n",
      "    78 phenotypes in rsfmri.\n",
      "        78 phenotypes found.\n",
      "78 out of 78 phenotypes found\n",
      "    276 phenotypes in diffusion.\n",
      "        276 phenotypes found.\n",
      "276 out of 276 phenotypes found\n"
     ]
    }
   ],
   "source": [
    "# extract modality-specific z-scores\n",
    "\n",
    "for ancestry in [\"eur\", \"mixed\"]:\n",
    "    for t in [\"orig\", \"perm\"]:\n",
    "        print(f\"Making {t} z matrix for {ancestry}.\")\n",
    "        #zmat_prefix_in = f\"/cluster/projects/p33/users/alexeas/elleke/data/zmat_replication_{ancestry}_multimodal_{t}_140522\"\n",
    "        zmat_prefix_in = f\"/cluster/projects/p33/users/alexeas/elleke/data/zmat_h2z196_elbow_{t}_040522.dat\"\n",
    "        for modality in [\"T1\", \"rsfmri\", \"diffusion\"]:\n",
    "            #pheno_names2extract_fname = f\"/cluster/projects/p33/users/elizabept/multimodal/replication/plink/data/{modality}_phenotypes.txt\"\n",
    "            pheno_names2extract_fname = f\"/cluster/p/p33/cluster/users/alexeas/elleke/data/discovery_{modality}_phenotypes.txt\"\n",
    "            pheno_names2extract = list(pd.read_csv(pheno_names2extract_fname, header=None).squeeze())\n",
    "            print(f\"    {len(pheno_names2extract)} phenotypes in {modality}.\")\n",
    "            pheno_files = pd.read_csv(f\"{zmat_prefix_in}.rows\", header=None).squeeze()\n",
    "            pheno_files2extract = [None]*len(pheno_names2extract)\n",
    "            for p in pheno_files:\n",
    "                p_name = p.split('.')[1]\n",
    "                if p_name in pheno_names2extract:\n",
    "                    ind = pheno_names2extract.index(p_name)\n",
    "                    pheno_files2extract[ind] = p\n",
    "            assert all(pheno_files2extract)\n",
    "            print(f\"        {len(pheno_files2extract)} phenotypes found.\")\n",
    "            zmat_prefix_out = f\"/cluster/projects/p33/users/alexeas/elleke/data/zmat_replication_{ancestry}_{modality}_{t}_140522\"\n",
    "            extract_zmat_pheno(zmat_prefix_in, pheno_files2extract, zmat_prefix_out)"
   ]
  },
  {
   "cell_type": "code",
   "execution_count": 44,
   "id": "2b1e9a73",
   "metadata": {},
   "outputs": [
    {
     "name": "stdout",
     "output_type": "stream",
     "text": [
      "Making orig z matrix.\n",
      "    171 phenotypes in T1.\n",
      "        171 phenotypes found.\n",
      "171 out of 171 phenotypes found\n",
      "    139 phenotypes in rsfmri.\n",
      "        139 phenotypes found.\n",
      "139 out of 139 phenotypes found\n",
      "    273 phenotypes in diffusion.\n",
      "        273 phenotypes found.\n",
      "273 out of 273 phenotypes found\n",
      "Making perm z matrix.\n",
      "    171 phenotypes in T1.\n",
      "        171 phenotypes found.\n",
      "171 out of 171 phenotypes found\n",
      "    139 phenotypes in rsfmri.\n",
      "        139 phenotypes found.\n",
      "139 out of 139 phenotypes found\n",
      "    273 phenotypes in diffusion.\n",
      "        273 phenotypes found.\n",
      "273 out of 273 phenotypes found\n"
     ]
    }
   ],
   "source": [
    "# reacreate z matrices for discovery\n",
    "for t in [\"orig\", \"perm\"]:\n",
    "    print(f\"Making {t} z matrix.\")\n",
    "    zmat_prefix_in = f\"/cluster/projects/p33/users/alexeas/elleke/data/zmat_h2z196_elbow_{t}_040522\"\n",
    "    for modality in [\"T1\", \"rsfmri\", \"diffusion\"]:\n",
    "        pheno_names2extract_fname = f\"/cluster/p/p33/cluster/users/alexeas/elleke/data/discovery_{modality}_phenotypes.txt\"\n",
    "        pheno_names2extract = list(pd.read_csv(pheno_names2extract_fname, header=None).squeeze())\n",
    "        print(f\"    {len(pheno_names2extract)} phenotypes in {modality}.\")\n",
    "        pheno_files = pd.read_csv(f\"{zmat_prefix_in}.rows\", header=None).squeeze()\n",
    "        pheno_files2extract = [None]*len(pheno_names2extract)\n",
    "        for p in pheno_files:\n",
    "            p_name = p.split('.')[1]\n",
    "            if p_name in pheno_names2extract:\n",
    "                ind = pheno_names2extract.index(p_name)\n",
    "                pheno_files2extract[ind] = p\n",
    "        assert all(pheno_files2extract)\n",
    "        print(f\"        {len(pheno_files2extract)} phenotypes found.\")\n",
    "        zmat_prefix_out = f\"/cluster/projects/p33/users/alexeas/elleke/data/zmat_discovery_{modality}_{t}_140522\"\n",
    "        extract_zmat_pheno(zmat_prefix_in, pheno_files2extract, zmat_prefix_out)"
   ]
  },
  {
   "cell_type": "code",
   "execution_count": 7,
   "id": "ff788d69",
   "metadata": {},
   "outputs": [
    {
     "name": "stdout",
     "output_type": "stream",
     "text": [
      "168 phenotypes\n",
      "(5689920, 2)\n",
      "           SNP A1\n",
      "0   rs12238997  G\n",
      "1   rs12184267  T\n",
      "2   rs12184277  G\n",
      "3  rs144155419  A\n",
      "4  rs116801199  T\n",
      "168\n",
      "0 1 2 3 4 5 6 7 8 9 10 11 12 13 14 15 16 17 18 19 20 21 22 23 24 25 26 27 28 29 30 31 32 33 34 35 36 37 38 39 40 41 42 43 44 45 46 47 48 49 50 51 52 53 54 55 56 57 58 59 60 61 62 63 64 65 66 67 68 69 70 71 72 73 74 75 76 77 78 79 80 81 82 83 84 85 86 87 88 89 90 91 92 93 94 95 96 97 98 99 100 101 102 103 104 105 106 107 108 109 110 111 112 113 114 115 116 117 118 119 120 121 122 123 124 125 126 127 128 129 130 131 132 133 134 135 136 137 138 139 140 141 142 143 144 145 146 147 148 149 150 151 152 153 154 155 156 157 158 159 160 161 162 163 164 165 166 167 168\n",
      "0 1 2 3 4 5 6 7 8 9 10 11 12 13 14 15 16 17 18 19 20 21 22 23 24 25 26 27 28 29 30 31 32 33 34 35 36 37 38 39 40 41 42 43 44 45 46 47 48 49 50 51 52 53 54 55 56 57 58 59 60 61 62 63 64 65 66 67 68 69 70 71 72 73 74 75 76 77 78 79 80 81 82 83 84 85 86 87 88 89 90 91 92 93 94 95 96 97 98 99 100 101 102 103 104 105 106 107 108 109 110 111 112 113 114 115 116 117 118 119 120 121 122 123 124 125 126 127 128 129 130 131 132 133 134 135 136 137 138 139 140 141 142 143 144 145 146 147 148 149 150 151 152 153 154 155 156 157 158 159 160 161 162 163 164 165 166 167 "
     ]
    }
   ],
   "source": [
    "# replication in ABCD v2_test\n",
    "\n",
    "gwas_dir = \"/cluster/projects/p33/users/elizabept/multimodal/replication/plink/results/eur/v2_test\"\n",
    "ref_bim = \"/cluster/projects/p33/users/elizabept/multimodal/replication/genos/results/v2_test/ABCDv2_QCed_120522.bim\"\n",
    "pheno_file = \"/cluster/projects/p33/users/elizabept/multimodal/replication/plink/data/T1_phenotypes.txt\"\n",
    "pheno = list(pd.read_csv(pheno_file, header=None).squeeze())\n",
    "print(f\"{len(pheno)} phenotypes\")\n",
    "bim = pd.read_csv(ref_bim, sep='\\t', header=None, names=[\"SNP\",\"A1\"], usecols=[1,4])\n",
    "print(bim.shape)\n",
    "print(bim.head())\n",
    "\n",
    "for t in [\"orig\", \"perm\"]:\n",
    "    in_dir = os.path.join(gwas_dir, t)\n",
    "    zmat_prefix = f\"/cluster/projects/p33/users/alexeas/elleke/data/zmat_replication_eur_T1_ABCD_v2_test_{t}\"\n",
    "    gwas_des = [de for de in os.scandir(in_dir) if de.name.split('.')[1] in pheno]\n",
    "    print(len(gwas_des))\n",
    "    save_zmat(gwas_des, zmat_prefix, bim) "
   ]
  },
  {
   "cell_type": "code",
   "execution_count": 17,
   "id": "03aad783",
   "metadata": {},
   "outputs": [],
   "source": [
    "orig_fname = \"/cluster/p/p33/cluster/users/alexeas/elleke/data/zmat_replication_eur_T1_orig_080522.rows\"\n",
    "perm_fname = \"/cluster/p/p33/cluster/users/alexeas/elleke/data/zmat_replication_eur_T1_perm_080522.rows\"\n",
    "pheno_orig = list(pd.read_csv(orig_fname, header=None).squeeze())\n",
    "pheno_perm = list(pd.read_csv(perm_fname, header=None).squeeze())\n",
    "pheno_orig = [p.split('.')[1] for p in pheno_orig]\n",
    "pheno_perm = [p.split('.')[1] for p in pheno_perm]\n",
    "ind_orig_in_perm = [pheno_perm.index(p) + 1 for p in pheno_orig]"
   ]
  },
  {
   "cell_type": "code",
   "execution_count": null,
   "id": "540800f7",
   "metadata": {},
   "outputs": [],
   "source": []
  }
 ],
 "metadata": {
  "kernelspec": {
   "display_name": "Python 3 (ipykernel)",
   "language": "python",
   "name": "python3"
  },
  "language_info": {
   "codemirror_mode": {
    "name": "ipython",
    "version": 3
   },
   "file_extension": ".py",
   "mimetype": "text/x-python",
   "name": "python",
   "nbconvert_exporter": "python",
   "pygments_lexer": "ipython3",
   "version": "3.10.6"
  }
 },
 "nbformat": 4,
 "nbformat_minor": 5
}
